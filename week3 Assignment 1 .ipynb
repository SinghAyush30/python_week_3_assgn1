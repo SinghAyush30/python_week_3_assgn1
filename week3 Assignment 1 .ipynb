{
 "cells": [
  {
   "cell_type": "markdown",
   "id": "e0683ab8-c044-4d8e-afd3-a63215ee2560",
   "metadata": {},
   "source": [
    "Ans1) To create a function we use a keyword \"def\"."
   ]
  },
  {
   "cell_type": "code",
   "execution_count": 7,
   "id": "62be1782-154b-4c1d-b0a6-1add708a71c6",
   "metadata": {},
   "outputs": [
    {
     "name": "stdout",
     "output_type": "stream",
     "text": [
      "[1, 3, 5, 7, 9, 11, 13, 15, 17, 19, 21, 23]\n"
     ]
    }
   ],
   "source": [
    "def test1():\n",
    "    return(list(filter(lambda x : x%2 !=0, range(1,25))))\n",
    "print(test1())"
   ]
  },
  {
   "cell_type": "markdown",
   "id": "90de38de-bedf-49ba-ac8a-3e2c937761a6",
   "metadata": {},
   "source": [
    "Ans2) \"*args\" is used when we have to show diffrent arguments in tuple form while \"**kwargs\" is used when we want arguments in dictionary form. By the way we can use any keywords instead of \"args\" or \"kwargs\",it doesn't affect result."
   ]
  },
  {
   "cell_type": "code",
   "execution_count": 8,
   "id": "4ccda615-321d-49d1-a7b9-f28ceae94dc3",
   "metadata": {},
   "outputs": [],
   "source": [
    "def test2(*args):\n",
    "    return(args)"
   ]
  },
  {
   "cell_type": "code",
   "execution_count": 3,
   "id": "3158e86f-7754-4875-bdbc-75f74972dce7",
   "metadata": {},
   "outputs": [
    {
     "data": {
      "text/plain": [
       "(1, 2, 3, 'ayush', 'singh')"
      ]
     },
     "execution_count": 3,
     "metadata": {},
     "output_type": "execute_result"
    }
   ],
   "source": [
    "test2(1,2,3,\"ayush\",\"singh\")"
   ]
  },
  {
   "cell_type": "code",
   "execution_count": 4,
   "id": "f28bffec-58de-4238-8b83-a33eb12d169e",
   "metadata": {},
   "outputs": [],
   "source": [
    "def test3(**kwargs):\n",
    "    return(kwargs)"
   ]
  },
  {
   "cell_type": "code",
   "execution_count": 5,
   "id": "fed6951d-282c-4b69-aa51-2e1f3e3696b4",
   "metadata": {},
   "outputs": [
    {
     "data": {
      "text/plain": [
       "{'a': 'ayush', 'b': 'singh', 'c': 'pwskills'}"
      ]
     },
     "execution_count": 5,
     "metadata": {},
     "output_type": "execute_result"
    }
   ],
   "source": [
    "test3(a=\"ayush\",b=\"singh\",c=\"pwskills\")"
   ]
  },
  {
   "cell_type": "markdown",
   "id": "b9dc5b65-8ff3-4857-b4f7-8639d03c513d",
   "metadata": {},
   "source": [
    "Ans3) An iterator is an object that is used to iterate through the elements or items in the collections such as List, Set, Dictionary, Tuples etc. Iter() method is used to initialize the iterator object."
   ]
  },
  {
   "cell_type": "code",
   "execution_count": 9,
   "id": "c464daed-f72c-4780-ba9e-bf85a34cd354",
   "metadata": {},
   "outputs": [],
   "source": [
    "l = [2,4,6,8,10,12,14,16,18,20]\n",
    "l1 = iter(l)"
   ]
  },
  {
   "cell_type": "code",
   "execution_count": 10,
   "id": "f25b2696-b8e9-4608-b407-b080421fd2cc",
   "metadata": {},
   "outputs": [
    {
     "name": "stdout",
     "output_type": "stream",
     "text": [
      "2\n",
      "4\n",
      "6\n",
      "8\n",
      "10\n"
     ]
    }
   ],
   "source": [
    "for i in range(5):\n",
    "    print(next(l1))"
   ]
  },
  {
   "cell_type": "markdown",
   "id": "5972fc4e-1b95-43fd-b0d8-60ffbaa46dd2",
   "metadata": {},
   "source": [
    "Ans4) A generator is a special type of function which does not return a single value, instead, it returns an iterator object with a sequence of values.The yield keyword is used in generator object because it can return multiple values to the caller without terminating the program."
   ]
  },
  {
   "cell_type": "code",
   "execution_count": 11,
   "id": "7f42219c-190d-4c14-b140-63bb6ac23d3f",
   "metadata": {},
   "outputs": [
    {
     "name": "stdout",
     "output_type": "stream",
     "text": [
      "4\n",
      "5\n",
      "25\n",
      "625\n",
      "390625\n"
     ]
    }
   ],
   "source": [
    "def test3():\n",
    "    a,b = 4,5\n",
    "    while True:\n",
    "        yield a\n",
    "        a,b = b,b**2\n",
    "t = test3()\n",
    "for i in range(5):\n",
    "    print(next(t))"
   ]
  },
  {
   "cell_type": "code",
   "execution_count": 2,
   "id": "3626fa18-c6f6-4c67-860d-526b2d5f1e32",
   "metadata": {},
   "outputs": [
    {
     "name": "stdout",
     "output_type": "stream",
     "text": [
      "2\n",
      "3\n",
      "5\n",
      "7\n",
      "11\n",
      "13\n",
      "17\n",
      "19\n",
      "23\n",
      "29\n",
      "31\n",
      "37\n",
      "41\n",
      "43\n",
      "47\n",
      "53\n",
      "59\n",
      "61\n",
      "67\n",
      "71\n"
     ]
    }
   ],
   "source": [
    "#Ans5) \n",
    "def generate_primes():\n",
    "    primes = []\n",
    "    num = 2\n",
    "    while num < 1000:\n",
    "        is_prime = True\n",
    "        for prime in primes:\n",
    "            if num % prime == 0:\n",
    "                is_prime = False\n",
    "                break\n",
    "        if is_prime:\n",
    "            primes.append(num)\n",
    "            yield num\n",
    "        num += 1\n",
    "\n",
    "prime_generator = generate_primes()\n",
    "\n",
    "# Print the first 20 prime numbers\n",
    "for _ in range(20):\n",
    "    prime = next(prime_generator)\n",
    "    print(prime)"
   ]
  },
  {
   "cell_type": "code",
   "execution_count": 1,
   "id": "88a78a9d-7166-44b5-9b0d-09976548be81",
   "metadata": {},
   "outputs": [
    {
     "name": "stdout",
     "output_type": "stream",
     "text": [
      "1\n",
      "2\n",
      "3\n",
      "5\n",
      "8\n",
      "13\n",
      "21\n",
      "34\n",
      "55\n",
      "89\n"
     ]
    }
   ],
   "source": [
    "#Ans6) The first 10 fibonacci series is\n",
    "def fib():\n",
    "    a,b = 1,2\n",
    "    while True:\n",
    "        yield a\n",
    "        a, b = b, a+b\n",
    "fib = fib()\n",
    "for i in range(10):\n",
    "    print(next(fib))"
   ]
  },
  {
   "cell_type": "code",
   "execution_count": 2,
   "id": "19b5a36d-49e2-4cd1-a9e0-7ac864854678",
   "metadata": {},
   "outputs": [
    {
     "data": {
      "text/plain": [
       "['p', 'w', 's', 'k', 'i', 'l', 'l', 's']"
      ]
     },
     "execution_count": 2,
     "metadata": {},
     "output_type": "execute_result"
    }
   ],
   "source": [
    "#Ans7) \n",
    "s = \"pwskills\"\n",
    "list(map(lambda s:s,s))"
   ]
  },
  {
   "cell_type": "code",
   "execution_count": 2,
   "id": "80e2b5b8-8234-4ff3-9bcc-59a6d019681a",
   "metadata": {},
   "outputs": [
    {
     "name": "stdin",
     "output_type": "stream",
     "text": [
      "Enter a number 34\n"
     ]
    },
    {
     "name": "stdout",
     "output_type": "stream",
     "text": [
      "number is not palindrome\n"
     ]
    }
   ],
   "source": [
    "#Ans8) Code for checking palindrome number\n",
    "num = int(input(\"Enter a number\"))\n",
    "reverse = 0\n",
    "number = num\n",
    "while (num > 0):\n",
    "    reverse = reverse * 10 + (num % 10)\n",
    "    num = num // 10\n",
    "if number == reverse:\n",
    "    print(\"number is palindrome\")\n",
    "else:\n",
    "    print(\"number is not palindrome\")"
   ]
  },
  {
   "cell_type": "code",
   "execution_count": 1,
   "id": "dda2da65-0cae-42fe-a0a1-a7541c9576d5",
   "metadata": {},
   "outputs": [
    {
     "name": "stdout",
     "output_type": "stream",
     "text": [
      "[1, 3, 5, 7, 9, 11, 13, 15, 17, 19, 21, 23, 25, 27, 29, 31, 33, 35, 37, 39, 41, 43, 45, 47, 49, 51, 53, 55, 57, 59, 61, 63, 65, 67, 69, 71, 73, 75, 77, 79, 81, 83, 85, 87, 89, 91, 93, 95, 97, 99]\n"
     ]
    }
   ],
   "source": [
    "#Ans9) Code for printing odd no.from 1 to 100\n",
    "a = range(1,101)\n",
    "odd_numbers = [num for num in a if num % 2 != 0]\n",
    "print(odd_numbers)"
   ]
  },
  {
   "cell_type": "code",
   "execution_count": null,
   "id": "b3027db6-305b-4394-9dab-0045b588ceea",
   "metadata": {},
   "outputs": [],
   "source": []
  }
 ],
 "metadata": {
  "kernelspec": {
   "display_name": "Python 3 (ipykernel)",
   "language": "python",
   "name": "python3"
  },
  "language_info": {
   "codemirror_mode": {
    "name": "ipython",
    "version": 3
   },
   "file_extension": ".py",
   "mimetype": "text/x-python",
   "name": "python",
   "nbconvert_exporter": "python",
   "pygments_lexer": "ipython3",
   "version": "3.10.8"
  }
 },
 "nbformat": 4,
 "nbformat_minor": 5
}
